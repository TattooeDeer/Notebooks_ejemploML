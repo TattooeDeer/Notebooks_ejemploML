{
 "cells": [
  {
   "cell_type": "code",
   "execution_count": 52,
   "metadata": {},
   "outputs": [],
   "source": [
    "import pandas as pd\n",
    "import numpy as np\n",
    "import matplotlib.pyplot as plt\n",
    "import seaborn as sn\n",
    "%matplotlib inline\n",
    "\n",
    "from sklearn.model_selection import train_test_split\n",
    "from sklearn.feature_extraction.text import CountVectorizer\n",
    "from sklearn.metrics import confusion_matrix, classification_report\n",
    "from sklearn.model_selection import GridSearchCV\n",
    "\n",
    "from sklearn.decomposition import LatentDirichletAllocation\n",
    "\n",
    "import glob, os\n",
    "\n"
   ]
  },
  {
   "cell_type": "code",
   "execution_count": 53,
   "metadata": {},
   "outputs": [],
   "source": [
    "file_list = glob.glob(os.getcwd() + '/dump/*.csv') # Recuperar la lista con todos los .csv en la carpeta dump\n",
    "\n",
    "append_csv = [] # Arreglo de pd.Dataframes\n",
    "for f in file_list:\n",
    "    append_csv.append(pd.read_csv(f, index_col = None,\n",
    "                     header = 0).drop(columns = 'Unnamed: 0'))\n",
    "df_lyrics = pd.concat(append_csv) # Concatenamos todos los datafrrames en uno solo\n",
    "df_lyrics.columns = ['Artist', 'Genre', 'Song', 'Lyrics'] # Renombramos las columnas del nuevo dataframe"
   ]
  },
  {
   "cell_type": "code",
   "execution_count": 54,
   "metadata": {},
   "outputs": [
    {
     "data": {
      "text/plain": [
       "rock      4140\n",
       "hiphop    2535\n",
       "metal     1582\n",
       "pop       1232\n",
       "Name: Genre, dtype: int64"
      ]
     },
     "execution_count": 54,
     "metadata": {},
     "output_type": "execute_result"
    }
   ],
   "source": [
    "df_lyrics['Genre'].value_counts()"
   ]
  },
  {
   "cell_type": "code",
   "execution_count": 58,
   "metadata": {},
   "outputs": [],
   "source": [
    "counter = CountVectorizer(stop_words='english', max_df=.1, max_features=5000)\n",
    "transformed_feats = counter.fit_transform(df_lyrics['Lyrics'])"
   ]
  },
  {
   "cell_type": "code",
   "execution_count": null,
   "metadata": {},
   "outputs": [],
   "source": [
    "search_params = {'n_components': [5, 10, 15], 'learning_decay': [0.7, 0.5]}\n",
    "# Por defecto GridSearchCV implementa 3 validaciones. Hay un total de 18 modelos por estimar.\n",
    "cv_lda_model = GridSearchCV(LatentDirichletAllocation(learning_method='online'),\n",
    "                            param_grid=search_params, n_jobs=-1,\n",
    "                            cv = 5).fit(transformed_feats)"
   ]
  },
  {
   "cell_type": "code",
   "execution_count": 63,
   "metadata": {},
   "outputs": [
    {
     "name": "stdout",
     "output_type": "stream",
     "text": [
      "Best hyperparams: {'learning_decay': 0.7, 'n_components': 5}\n",
      "Best Loglikelihood: -1321009.4557017342\n",
      "Best Preplexity: 2230.5604930017403\n"
     ]
    }
   ],
   "source": [
    "best_lda = cv_lda_model.best_estimator_\n",
    "print(\"Best hyperparams: {}\".format(cv_lda_model.best_params_))\n",
    "print(\"Best Loglikelihood: {}\".format(cv_lda_model.best_score_))\n",
    "print(\"Best Preplexity: {}\".format(best_lda.perplexity(transformed_feats)))"
   ]
  },
  {
   "cell_type": "code",
   "execution_count": 67,
   "metadata": {},
   "outputs": [],
   "source": [
    "from joblib import dump, load\n",
    "\n",
    "#dump(cv_lda_model.best_estimator_, 'Latent_dirichlet_alloc.joblib') \n",
    "best_lda = load('Latent_dirichlet_alloc.joblib')"
   ]
  },
  {
   "cell_type": "markdown",
   "metadata": {},
   "source": [
    "## Ejercicio 4: Identificación de Tópicos"
   ]
  },
  {
   "cell_type": "code",
   "execution_count": 75,
   "metadata": {},
   "outputs": [
    {
     "data": {
      "text/plain": [
       "(5, 5000)"
      ]
     },
     "execution_count": 75,
     "metadata": {},
     "output_type": "execute_result"
    }
   ],
   "source": [
    "best_lda.components_.shape"
   ]
  },
  {
   "cell_type": "code",
   "execution_count": 76,
   "metadata": {},
   "outputs": [
    {
     "name": "stdout",
     "output_type": "stream",
     "text": [
      "tópico: 1\n",
      "rock roll uh beat mos def everybody yes hands whoa party ready jump ha mon\n",
      "tópico: 2\n",
      "niggas niggaz ma fuckin gon rap bitches game da uh dre bout wit verse eminem\n",
      "tópico: 3\n",
      "didn talk friends everybody wrong dance mama maybe work somebody going crazy took friend went\n",
      "tópico: 4\n",
      "ooh ah la tonight ba na believe moment boom body bring yes future babe save\n",
      "tópico: 5\n",
      "sun pain fall hell sky dream forever coming lost rain kill war cold free dark\n"
     ]
    }
   ],
   "source": [
    "# mediante .components_ podemos extraer una matriz que entrega las distribución de palabras por cada tópico.\n",
    "for topic_id, topic_name in enumerate(best_lda.components_):\n",
    "    # para cada tópico\n",
    "    print(\"tópico: {}\".format(topic_id + 1))\n",
    "    # mediante argsort logramos ordenar los elementos por magnitud\n",
    "    # para los elementos más relevantes ordenados por argsort, buscamos su correlativo\n",
    "    # en la matriz dispersa y devolvemos el nombre.\n",
    "    # finalmente concatenamos las palabras\n",
    "    print(\" \".join([counter.get_feature_names()[i] for i in topic_name.argsort()[:-15 - 1: -1]]))"
   ]
  },
  {
   "cell_type": "code",
   "execution_count": 119,
   "metadata": {},
   "outputs": [
    {
     "data": {
      "text/plain": [
       "(5, 5000)"
      ]
     },
     "execution_count": 119,
     "metadata": {},
     "output_type": "execute_result"
    }
   ],
   "source": [
    "best_lda.components_"
   ]
  },
  {
   "cell_type": "code",
   "execution_count": 122,
   "metadata": {},
   "outputs": [
    {
     "name": "stdout",
     "output_type": "stream",
     "text": [
      "tópico: 1\n",
      "rock roll uh beat mos def everybody yes hands whoa party ready jump ha mon\n",
      "tópico: 2\n",
      "niggas niggaz ma fuckin gon rap bitches game da uh dre bout wit verse eminem\n",
      "tópico: 3\n",
      "didn talk friends everybody wrong dance mama maybe work somebody going crazy took friend went\n",
      "tópico: 4\n",
      "ooh ah la tonight ba na believe moment boom body bring yes future babe save\n",
      "tópico: 5\n",
      "sun pain fall hell sky dream forever coming lost rain kill war cold free dark\n"
     ]
    }
   ],
   "source": [
    "for topic_id, topic_name in enumerate(best_lda.components_):\n",
    "    print(\"tópico: {}\".format(topic_id + 1))\n",
    "    print(\" \".join([counter.get_feature_names()[i] for \n",
    "                    i in topic_name.argsort()[:-15 - 1: -1]]))"
   ]
  },
  {
   "cell_type": "markdown",
   "metadata": {},
   "source": [
    "## Ejercicio 5: Identificación de probabilidades"
   ]
  },
  {
   "cell_type": "code",
   "execution_count": 130,
   "metadata": {},
   "outputs": [
    {
     "data": {
      "text/plain": [
       "(9489, 5)"
      ]
     },
     "execution_count": 130,
     "metadata": {},
     "output_type": "execute_result"
    }
   ],
   "source": [
    "fit_best_lda.shape"
   ]
  },
  {
   "cell_type": "code",
   "execution_count": 128,
   "metadata": {},
   "outputs": [
    {
     "data": {
      "text/html": [
       "<div>\n",
       "<style scoped>\n",
       "    .dataframe tbody tr th:only-of-type {\n",
       "        vertical-align: middle;\n",
       "    }\n",
       "\n",
       "    .dataframe tbody tr th {\n",
       "        vertical-align: top;\n",
       "    }\n",
       "\n",
       "    .dataframe thead th {\n",
       "        text-align: right;\n",
       "    }\n",
       "</style>\n",
       "<table border=\"1\" class=\"dataframe\">\n",
       "  <thead>\n",
       "    <tr style=\"text-align: right;\">\n",
       "      <th></th>\n",
       "      <th>T: 1</th>\n",
       "      <th>T: 2</th>\n",
       "      <th>T: 3</th>\n",
       "      <th>T: 4</th>\n",
       "      <th>T: 5</th>\n",
       "    </tr>\n",
       "  </thead>\n",
       "  <tbody>\n",
       "    <tr>\n",
       "      <th>0</th>\n",
       "      <td>0.497</td>\n",
       "      <td>0.094</td>\n",
       "      <td>0.212</td>\n",
       "      <td>0.001</td>\n",
       "      <td>0.196</td>\n",
       "    </tr>\n",
       "    <tr>\n",
       "      <th>1</th>\n",
       "      <td>0.240</td>\n",
       "      <td>0.131</td>\n",
       "      <td>0.512</td>\n",
       "      <td>0.002</td>\n",
       "      <td>0.114</td>\n",
       "    </tr>\n",
       "    <tr>\n",
       "      <th>2</th>\n",
       "      <td>0.749</td>\n",
       "      <td>0.127</td>\n",
       "      <td>0.026</td>\n",
       "      <td>0.001</td>\n",
       "      <td>0.096</td>\n",
       "    </tr>\n",
       "    <tr>\n",
       "      <th>3</th>\n",
       "      <td>0.889</td>\n",
       "      <td>0.049</td>\n",
       "      <td>0.001</td>\n",
       "      <td>0.059</td>\n",
       "      <td>0.001</td>\n",
       "    </tr>\n",
       "    <tr>\n",
       "      <th>4</th>\n",
       "      <td>0.538</td>\n",
       "      <td>0.003</td>\n",
       "      <td>0.234</td>\n",
       "      <td>0.003</td>\n",
       "      <td>0.221</td>\n",
       "    </tr>\n",
       "  </tbody>\n",
       "</table>\n",
       "</div>"
      ],
      "text/plain": [
       "    T: 1   T: 2   T: 3   T: 4   T: 5\n",
       "0  0.497  0.094  0.212  0.001  0.196\n",
       "1  0.240  0.131  0.512  0.002  0.114\n",
       "2  0.749  0.127  0.026  0.001  0.096\n",
       "3  0.889  0.049  0.001  0.059  0.001\n",
       "4  0.538  0.003  0.234  0.003  0.221"
      ]
     },
     "execution_count": 128,
     "metadata": {},
     "output_type": "execute_result"
    }
   ],
   "source": [
    "# generamos una transformación de los datos a distribución de tópico por palabra en el documento\n",
    "fit_best_lda = best_lda.transform(transformed_feats)\n",
    "# esta transformación la podemos coercionar a un dataframe de la siguiente manera\n",
    "\n",
    "topics_for_each_doc = pd.DataFrame(\n",
    "    # pasamos esta matriz y la redondeamos en 3 decimales\n",
    "    np.round(fit_best_lda, 3),\n",
    "    # agregamos un índice\n",
    "    index=df_lyrics.index\n",
    ")\n",
    "\n",
    "#agregamos identificadores de columna\n",
    "topics_for_each_doc.columns = list(\n",
    "                    map(lambda x: \"T: {}\".format(x),\n",
    "                    range(1, best_lda.n_components + 1)))\n",
    "\n",
    "topics_for_each_doc.head()\n",
    "\n"
   ]
  },
  {
   "cell_type": "code",
   "execution_count": 135,
   "metadata": {},
   "outputs": [],
   "source": [
    "# concatenamos las probabilidades de tópico por documento a nuestra matriz original\n",
    "concatenated_df = pd.concat([df_lyrics, topics_for_each_doc], axis=1)\n",
    "# argmax en la matriz de tópicos\n",
    "concatenated_df['highest_topic'] = np.argmax(topics_for_each_doc.values, axis=1) + 1"
   ]
  },
  {
   "cell_type": "code",
   "execution_count": 138,
   "metadata": {},
   "outputs": [
    {
     "data": {
      "text/html": [
       "<div>\n",
       "<style scoped>\n",
       "    .dataframe tbody tr th:only-of-type {\n",
       "        vertical-align: middle;\n",
       "    }\n",
       "\n",
       "    .dataframe tbody tr th {\n",
       "        vertical-align: top;\n",
       "    }\n",
       "\n",
       "    .dataframe thead th {\n",
       "        text-align: right;\n",
       "    }\n",
       "</style>\n",
       "<table border=\"1\" class=\"dataframe\">\n",
       "  <thead>\n",
       "    <tr style=\"text-align: right;\">\n",
       "      <th></th>\n",
       "      <th>Artist</th>\n",
       "      <th>Genre</th>\n",
       "      <th>Song</th>\n",
       "      <th>Lyrics</th>\n",
       "      <th>T: 1</th>\n",
       "      <th>T: 2</th>\n",
       "      <th>T: 3</th>\n",
       "      <th>T: 4</th>\n",
       "      <th>T: 5</th>\n",
       "      <th>highest_topic</th>\n",
       "    </tr>\n",
       "  </thead>\n",
       "  <tbody>\n",
       "    <tr>\n",
       "      <th>65</th>\n",
       "      <td>Pink Floyd</td>\n",
       "      <td>rock</td>\n",
       "      <td>Pigs On The Wing (1)</td>\n",
       "      <td>If you didn't care what happened to me \\n And ...</td>\n",
       "      <td>0.015</td>\n",
       "      <td>0.016</td>\n",
       "      <td>0.487</td>\n",
       "      <td>0.016</td>\n",
       "      <td>0.465</td>\n",
       "      <td>3</td>\n",
       "    </tr>\n",
       "    <tr>\n",
       "      <th>108</th>\n",
       "      <td>Weezer</td>\n",
       "      <td>rock</td>\n",
       "      <td>Thank God For Girls</td>\n",
       "      <td>Unfortunately, we are not licensed to display ...</td>\n",
       "      <td>0.018</td>\n",
       "      <td>0.018</td>\n",
       "      <td>0.018</td>\n",
       "      <td>0.927</td>\n",
       "      <td>0.018</td>\n",
       "      <td>4</td>\n",
       "    </tr>\n",
       "    <tr>\n",
       "      <th>22</th>\n",
       "      <td>SIA</td>\n",
       "      <td>pop</td>\n",
       "      <td>Insidiously</td>\n",
       "      <td>Mind you mind me \\n You thought you could clim...</td>\n",
       "      <td>0.006</td>\n",
       "      <td>0.006</td>\n",
       "      <td>0.624</td>\n",
       "      <td>0.122</td>\n",
       "      <td>0.243</td>\n",
       "      <td>3</td>\n",
       "    </tr>\n",
       "    <tr>\n",
       "      <th>6</th>\n",
       "      <td>The Smashing Pumpkins</td>\n",
       "      <td>rock</td>\n",
       "      <td>Snail</td>\n",
       "      <td>All your seven dreams \\n Look closer than you ...</td>\n",
       "      <td>0.004</td>\n",
       "      <td>0.004</td>\n",
       "      <td>0.155</td>\n",
       "      <td>0.096</td>\n",
       "      <td>0.740</td>\n",
       "      <td>5</td>\n",
       "    </tr>\n",
       "    <tr>\n",
       "      <th>142</th>\n",
       "      <td>Anthrax</td>\n",
       "      <td>metal</td>\n",
       "      <td>This Battle Chose Us</td>\n",
       "      <td>You give them hell \\n Straight to the chin \\n ...</td>\n",
       "      <td>0.002</td>\n",
       "      <td>0.002</td>\n",
       "      <td>0.002</td>\n",
       "      <td>0.026</td>\n",
       "      <td>0.968</td>\n",
       "      <td>5</td>\n",
       "    </tr>\n",
       "    <tr>\n",
       "      <th>205</th>\n",
       "      <td>Eminem</td>\n",
       "      <td>hiphop</td>\n",
       "      <td>Desperation</td>\n",
       "      <td>Girl you gimme writers block \\n I'm at a loss ...</td>\n",
       "      <td>0.055</td>\n",
       "      <td>0.327</td>\n",
       "      <td>0.358</td>\n",
       "      <td>0.002</td>\n",
       "      <td>0.259</td>\n",
       "      <td>3</td>\n",
       "    </tr>\n",
       "    <tr>\n",
       "      <th>308</th>\n",
       "      <td>Bruce Springsteen</td>\n",
       "      <td>rock</td>\n",
       "      <td>Breakaway</td>\n",
       "      <td>Sonny abandoned his car last night \\n Had a me...</td>\n",
       "      <td>0.003</td>\n",
       "      <td>0.064</td>\n",
       "      <td>0.372</td>\n",
       "      <td>0.003</td>\n",
       "      <td>0.558</td>\n",
       "      <td>5</td>\n",
       "    </tr>\n",
       "    <tr>\n",
       "      <th>9</th>\n",
       "      <td>Nicki Minaj</td>\n",
       "      <td>pop</td>\n",
       "      <td>Nicki Minaj Speaks#2</td>\n",
       "      <td>Holiday, Holiday, slow that shit DOWN! \\n C'mo...</td>\n",
       "      <td>0.483</td>\n",
       "      <td>0.076</td>\n",
       "      <td>0.433</td>\n",
       "      <td>0.003</td>\n",
       "      <td>0.003</td>\n",
       "      <td>1</td>\n",
       "    </tr>\n",
       "    <tr>\n",
       "      <th>96</th>\n",
       "      <td>Mobb Deep</td>\n",
       "      <td>hiphop</td>\n",
       "      <td>Can't Fuck With Us (Freestyle)</td>\n",
       "      <td>{*Opening gunshot courtesy DJ Whoo Kid*} \\n (H...</td>\n",
       "      <td>0.052</td>\n",
       "      <td>0.826</td>\n",
       "      <td>0.002</td>\n",
       "      <td>0.002</td>\n",
       "      <td>0.119</td>\n",
       "      <td>2</td>\n",
       "    </tr>\n",
       "    <tr>\n",
       "      <th>17</th>\n",
       "      <td>Pink Floyd</td>\n",
       "      <td>rock</td>\n",
       "      <td>Let There Be More Light</td>\n",
       "      <td>Far far far far away way \\n People heard him s...</td>\n",
       "      <td>0.005</td>\n",
       "      <td>0.051</td>\n",
       "      <td>0.005</td>\n",
       "      <td>0.087</td>\n",
       "      <td>0.852</td>\n",
       "      <td>5</td>\n",
       "    </tr>\n",
       "  </tbody>\n",
       "</table>\n",
       "</div>"
      ],
      "text/plain": [
       "                    Artist   Genre                            Song  \\\n",
       "65              Pink Floyd    rock            Pigs On The Wing (1)   \n",
       "108                 Weezer    rock             Thank God For Girls   \n",
       "22                     SIA     pop                     Insidiously   \n",
       "6    The Smashing Pumpkins    rock                           Snail   \n",
       "142                Anthrax   metal            This Battle Chose Us   \n",
       "205                 Eminem  hiphop                     Desperation   \n",
       "308      Bruce Springsteen    rock                       Breakaway   \n",
       "9              Nicki Minaj     pop            Nicki Minaj Speaks#2   \n",
       "96               Mobb Deep  hiphop  Can't Fuck With Us (Freestyle)   \n",
       "17              Pink Floyd    rock         Let There Be More Light   \n",
       "\n",
       "                                                Lyrics   T: 1   T: 2   T: 3  \\\n",
       "65   If you didn't care what happened to me \\n And ...  0.015  0.016  0.487   \n",
       "108  Unfortunately, we are not licensed to display ...  0.018  0.018  0.018   \n",
       "22   Mind you mind me \\n You thought you could clim...  0.006  0.006  0.624   \n",
       "6    All your seven dreams \\n Look closer than you ...  0.004  0.004  0.155   \n",
       "142  You give them hell \\n Straight to the chin \\n ...  0.002  0.002  0.002   \n",
       "205  Girl you gimme writers block \\n I'm at a loss ...  0.055  0.327  0.358   \n",
       "308  Sonny abandoned his car last night \\n Had a me...  0.003  0.064  0.372   \n",
       "9    Holiday, Holiday, slow that shit DOWN! \\n C'mo...  0.483  0.076  0.433   \n",
       "96   {*Opening gunshot courtesy DJ Whoo Kid*} \\n (H...  0.052  0.826  0.002   \n",
       "17   Far far far far away way \\n People heard him s...  0.005  0.051  0.005   \n",
       "\n",
       "      T: 4   T: 5  highest_topic  \n",
       "65   0.016  0.465              3  \n",
       "108  0.927  0.018              4  \n",
       "22   0.122  0.243              3  \n",
       "6    0.096  0.740              5  \n",
       "142  0.026  0.968              5  \n",
       "205  0.002  0.259              3  \n",
       "308  0.003  0.558              5  \n",
       "9    0.003  0.003              1  \n",
       "96   0.002  0.119              2  \n",
       "17   0.087  0.852              5  "
      ]
     },
     "execution_count": 138,
     "metadata": {},
     "output_type": "execute_result"
    }
   ],
   "source": [
    "concatenated_df.sample(10)"
   ]
  },
  {
   "cell_type": "markdown",
   "metadata": {},
   "source": [
    "Matriz de correlaciones entre los tópicos inferidos"
   ]
  },
  {
   "cell_type": "code",
   "execution_count": 148,
   "metadata": {},
   "outputs": [],
   "source": [
    "fit_best_lda = best_lda.transform(transformed_feats)\n",
    "\n",
    "topics = list(map(lambda x: \"topic {}\".format(x), range(1, best_lda.n_components + 1)))\n",
    "\n",
    "docs_topics = pd.DataFrame(np.round(fit_best_lda, 3), columns=topics, index=df_lyrics.index)\n",
    "\n",
    "concatenate_pr_songs = pd.concat([df_lyrics, docs_topics], axis=1)\n",
    "\n",
    "concatenate_pr_songs['highest_topic'] = np.argmax(docs_topics.values, axis=1)+1"
   ]
  },
  {
   "cell_type": "code",
   "execution_count": 147,
   "metadata": {},
   "outputs": [
    {
     "data": {
      "image/png": "[encoded data removed]",
      "text/plain": [
       "<Figure size 864x504 with 2 Axes>"
      ]
     },
     "metadata": {},
     "output_type": "display_data"
    }
   ],
   "source": [
    "plt.rcParams['figure.figsize'] = (12,7)\n",
    "sn.heatmap(concatenate_pr_songs.loc[:, 'topic 1':'topic 5'].corr(), annot=True, cmap='Greys');"
   ]
  },
  {
   "cell_type": "code",
   "execution_count": 141,
   "metadata": {},
   "outputs": [
    {
     "data": {
      "text/plain": [
       "Eminem                      493\n",
       "Bruce Springsteen           467\n",
       "Bob Dylan                   447\n",
       "Britney Spears              323\n",
       "Nicki Minaj                 282\n",
       "Michael Jackson             279\n",
       "Kanye West                  273\n",
       "The Beatles                 265\n",
       "Ghostface Killah            255\n",
       "The Smashing Pumpkins       254\n",
       "Weezer                      251\n",
       "Mobb Deep                   231\n",
       "Red Hot Chili Peppers       226\n",
       "Kiss                        219\n",
       "The Doors                   214\n",
       "Public Enemy                198\n",
       "Megadeth                    190\n",
       "Queen                       188\n",
       "Iron Maiden                 185\n",
       "Raekwon                     184\n",
       "De La Soul                  174\n",
       "Cannibal Corpse             171\n",
       "Anthrax                     170\n",
       "Rush                        167\n",
       "Metallica                   155\n",
       "Modest Mouse                154\n",
       "Radiohead                   151\n",
       "Slayer                      147\n",
       "The Clash                   145\n",
       "Pink Floyd                  135\n",
       "                           ... \n",
       "Kendrick Lamar              133\n",
       "Incubus                     130\n",
       "Mos Def                     130\n",
       "Nickelback                  121\n",
       "System of a Down            117\n",
       "A Tribe Called Quest        114\n",
       "SIA                         111\n",
       "Dr. Dre                     105\n",
       "Led Zeppelin                105\n",
       "Method Man                  104\n",
       "Deicide                     104\n",
       "Opeth                        99\n",
       "Faith No More                98\n",
       "Spice Girls                  84\n",
       "Meshuggah                    81\n",
       "The Smiths                   77\n",
       "Rage Against The Machine     75\n",
       "Mayhem                       73\n",
       "Immortal                     68\n",
       "Carly Rae Jepsen             64\n",
       "Tool                         62\n",
       "MF Doom                      62\n",
       "Killer Mike                  56\n",
       "Vital Remains                45\n",
       "Sam Smith                    33\n",
       "Dua Lipa                     29\n",
       "Lorde                        27\n",
       "Black Star                   23\n",
       "Gorgoroth                    16\n",
       "Necrophagist                 16\n",
       "Name: Artist, Length: 61, dtype: int64"
      ]
     },
     "execution_count": 141,
     "metadata": {},
     "output_type": "execute_result"
    }
   ],
   "source": [
    "df_lyrics['Artist'].value_counts()"
   ]
  },
  {
   "cell_type": "code",
   "execution_count": 149,
   "metadata": {},
   "outputs": [
    {
     "data": {
      "text/plain": [
       "metal           0.071852\n",
       "rock            0.078111\n",
       "hardcore-rap    0.086741\n",
       "bling-era       0.353481\n",
       "pop             0.409815\n",
       "dtype: float64"
      ]
     },
     "execution_count": 149,
     "metadata": {},
     "output_type": "execute_result"
    }
   ],
   "source": [
    "def fetch_mixture(df, artist):\n",
    "    return df[df['Artist'] == artist].loc[:, 'topic 1':'topic 5']\n",
    "\n",
    "mos_def = fetch_mixture(concatenate_pr_songs, 'Lorde')\n",
    "mos_def.columns = ['hardcore-rap', 'rock', 'pop', 'metal', 'bling-era']\n",
    "mos_def.apply(np.mean, axis=0).sort_values()"
   ]
  },
  {
   "cell_type": "markdown",
   "metadata": {},
   "source": [
    "Distribución de probabilidades para un artista:"
   ]
  },
  {
   "cell_type": "code",
   "execution_count": 152,
   "metadata": {},
   "outputs": [
    {
     "name": "stderr",
     "output_type": "stream",
     "text": [
      "/Users/ignacio/anaconda3/lib/python3.6/site-packages/scipy/stats/stats.py:1713: FutureWarning: Using a non-tuple sequence for multidimensional indexing is deprecated; use `arr[tuple(seq)]` instead of `arr[seq]`. In the future this will be interpreted as an array index, `arr[np.array(seq)]`, which will result either in an error or a different result.\n",
      "  return np.add.reduce(sorted[indexer] * weights, axis=axis) / sumval\n"
     ]
    },
    {
     "data": {
      "image/png": "[encoded data removed]",
      "text/plain": [
       "<Figure size 720x720 with 5 Axes>"
      ]
     },
     "metadata": {},
     "output_type": "display_data"
    }
   ],
   "source": [
    "plt.figure(figsize=(10, 10))\n",
    "for index, (colname, serie) in enumerate(mos_def.iteritems()):\n",
    "    plt.subplot(5, 1, index + 1)\n",
    "    sn.distplot(serie)\n",
    "    plt.title(colname)\n",
    "    plt.tight_layout()"
   ]
  },
  {
   "cell_type": "code",
   "execution_count": null,
   "metadata": {},
   "outputs": [],
   "source": []
  }
 ],
 "metadata": {
  "kernelspec": {
   "display_name": "Python 3",
   "language": "python",
   "name": "python3"
  },
  "language_info": {
   "codemirror_mode": {
    "name": "ipython",
    "version": 3
   },
   "file_extension": ".py",
   "mimetype": "text/x-python",
   "name": "python",
   "nbconvert_exporter": "python",
   "pygments_lexer": "ipython3",
   "version": "3.7.3"
  }
 },
 "nbformat": 4,
 "nbformat_minor": 4
}
