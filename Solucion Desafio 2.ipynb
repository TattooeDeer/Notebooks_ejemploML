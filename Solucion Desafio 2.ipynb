{
 "cells": [
  {
   "cell_type": "code",
   "execution_count": 128,
   "metadata": {},
   "outputs": [],
   "source": [
    "import pandas as pd\n",
    "import numpy as np\n",
    "import helpers\n",
    "import re\n",
    "\n",
    "import matplotlib.pyplot as plt\n",
    "import seaborn as sn\n",
    "%matplotlib inline\n",
    "from sklearn.model_selection import train_test_split\n",
    "import pandas_profiling\n",
    "\n",
    "from sklearn.metrics import classification_report\n",
    "\n",
    "from joblib import load, dump\n"
   ]
  },
  {
   "cell_type": "code",
   "execution_count": 56,
   "metadata": {},
   "outputs": [
    {
     "data": {
      "text/plain": [
       "(39644, 61)"
      ]
     },
     "execution_count": 56,
     "metadata": {},
     "output_type": "execute_result"
    }
   ],
   "source": [
    "df = pd.read_csv('OnlineNewsPopularity/OnlineNewsPopularity.csv')\n",
    "df.shape"
   ]
  },
  {
   "cell_type": "code",
   "execution_count": 57,
   "metadata": {},
   "outputs": [
    {
     "data": {
      "text/html": [
       "<div>\n",
       "<style scoped>\n",
       "    .dataframe tbody tr th:only-of-type {\n",
       "        vertical-align: middle;\n",
       "    }\n",
       "\n",
       "    .dataframe tbody tr th {\n",
       "        vertical-align: top;\n",
       "    }\n",
       "\n",
       "    .dataframe thead th {\n",
       "        text-align: right;\n",
       "    }\n",
       "</style>\n",
       "<table border=\"1\" class=\"dataframe\">\n",
       "  <thead>\n",
       "    <tr style=\"text-align: right;\">\n",
       "      <th></th>\n",
       "      <th>url</th>\n",
       "      <th>timedelta</th>\n",
       "      <th>n_tokens_title</th>\n",
       "      <th>n_tokens_content</th>\n",
       "      <th>n_unique_tokens</th>\n",
       "      <th>n_non_stop_words</th>\n",
       "      <th>n_non_stop_unique_tokens</th>\n",
       "      <th>num_hrefs</th>\n",
       "      <th>num_self_hrefs</th>\n",
       "      <th>num_imgs</th>\n",
       "      <th>...</th>\n",
       "      <th>min_positive_polarity</th>\n",
       "      <th>max_positive_polarity</th>\n",
       "      <th>avg_negative_polarity</th>\n",
       "      <th>min_negative_polarity</th>\n",
       "      <th>max_negative_polarity</th>\n",
       "      <th>title_subjectivity</th>\n",
       "      <th>title_sentiment_polarity</th>\n",
       "      <th>abs_title_subjectivity</th>\n",
       "      <th>abs_title_sentiment_polarity</th>\n",
       "      <th>shares</th>\n",
       "    </tr>\n",
       "  </thead>\n",
       "  <tbody>\n",
       "    <tr>\n",
       "      <th>499</th>\n",
       "      <td>http://mashable.com/2013/01/15/snowmen-slow-mo...</td>\n",
       "      <td>723.0</td>\n",
       "      <td>8.0</td>\n",
       "      <td>286.0</td>\n",
       "      <td>0.561404</td>\n",
       "      <td>1.0</td>\n",
       "      <td>0.602941</td>\n",
       "      <td>18.0</td>\n",
       "      <td>2.0</td>\n",
       "      <td>15.0</td>\n",
       "      <td>...</td>\n",
       "      <td>0.250000</td>\n",
       "      <td>0.7</td>\n",
       "      <td>-0.342692</td>\n",
       "      <td>-0.6</td>\n",
       "      <td>-0.076923</td>\n",
       "      <td>0.400000</td>\n",
       "      <td>-0.300000</td>\n",
       "      <td>0.100000</td>\n",
       "      <td>0.300000</td>\n",
       "      <td>480</td>\n",
       "    </tr>\n",
       "    <tr>\n",
       "      <th>11036</th>\n",
       "      <td>http://mashable.com/2013/08/06/encrypt-faceboo...</td>\n",
       "      <td>520.0</td>\n",
       "      <td>14.0</td>\n",
       "      <td>333.0</td>\n",
       "      <td>0.648485</td>\n",
       "      <td>1.0</td>\n",
       "      <td>0.850746</td>\n",
       "      <td>5.0</td>\n",
       "      <td>3.0</td>\n",
       "      <td>0.0</td>\n",
       "      <td>...</td>\n",
       "      <td>0.100000</td>\n",
       "      <td>0.9</td>\n",
       "      <td>-0.261699</td>\n",
       "      <td>-0.5</td>\n",
       "      <td>-0.076923</td>\n",
       "      <td>0.400000</td>\n",
       "      <td>-0.400000</td>\n",
       "      <td>0.100000</td>\n",
       "      <td>0.400000</td>\n",
       "      <td>783</td>\n",
       "    </tr>\n",
       "    <tr>\n",
       "      <th>16525</th>\n",
       "      <td>http://mashable.com/2013/11/22/life-on-ipad/</td>\n",
       "      <td>412.0</td>\n",
       "      <td>10.0</td>\n",
       "      <td>741.0</td>\n",
       "      <td>0.506868</td>\n",
       "      <td>1.0</td>\n",
       "      <td>0.675799</td>\n",
       "      <td>19.0</td>\n",
       "      <td>6.0</td>\n",
       "      <td>1.0</td>\n",
       "      <td>...</td>\n",
       "      <td>0.033333</td>\n",
       "      <td>1.0</td>\n",
       "      <td>-0.213194</td>\n",
       "      <td>-0.5</td>\n",
       "      <td>-0.100000</td>\n",
       "      <td>0.454545</td>\n",
       "      <td>0.136364</td>\n",
       "      <td>0.045455</td>\n",
       "      <td>0.136364</td>\n",
       "      <td>1800</td>\n",
       "    </tr>\n",
       "    <tr>\n",
       "      <th>12228</th>\n",
       "      <td>http://mashable.com/2013/08/28/tech-commercial...</td>\n",
       "      <td>498.0</td>\n",
       "      <td>11.0</td>\n",
       "      <td>1175.0</td>\n",
       "      <td>0.397933</td>\n",
       "      <td>1.0</td>\n",
       "      <td>0.614286</td>\n",
       "      <td>5.0</td>\n",
       "      <td>1.0</td>\n",
       "      <td>1.0</td>\n",
       "      <td>...</td>\n",
       "      <td>0.050000</td>\n",
       "      <td>0.8</td>\n",
       "      <td>-0.223250</td>\n",
       "      <td>-0.5</td>\n",
       "      <td>-0.071429</td>\n",
       "      <td>0.000000</td>\n",
       "      <td>0.000000</td>\n",
       "      <td>0.500000</td>\n",
       "      <td>0.000000</td>\n",
       "      <td>7600</td>\n",
       "    </tr>\n",
       "    <tr>\n",
       "      <th>28034</th>\n",
       "      <td>http://mashable.com/2014/06/30/three-missing-i...</td>\n",
       "      <td>191.0</td>\n",
       "      <td>12.0</td>\n",
       "      <td>1709.0</td>\n",
       "      <td>0.359172</td>\n",
       "      <td>1.0</td>\n",
       "      <td>0.527862</td>\n",
       "      <td>5.0</td>\n",
       "      <td>1.0</td>\n",
       "      <td>4.0</td>\n",
       "      <td>...</td>\n",
       "      <td>0.050000</td>\n",
       "      <td>1.0</td>\n",
       "      <td>-0.306468</td>\n",
       "      <td>-0.4</td>\n",
       "      <td>-0.050000</td>\n",
       "      <td>0.560606</td>\n",
       "      <td>0.234848</td>\n",
       "      <td>0.060606</td>\n",
       "      <td>0.234848</td>\n",
       "      <td>1200</td>\n",
       "    </tr>\n",
       "  </tbody>\n",
       "</table>\n",
       "<p>5 rows × 61 columns</p>\n",
       "</div>"
      ],
      "text/plain": [
       "                                                     url   timedelta  \\\n",
       "499    http://mashable.com/2013/01/15/snowmen-slow-mo...       723.0   \n",
       "11036  http://mashable.com/2013/08/06/encrypt-faceboo...       520.0   \n",
       "16525       http://mashable.com/2013/11/22/life-on-ipad/       412.0   \n",
       "12228  http://mashable.com/2013/08/28/tech-commercial...       498.0   \n",
       "28034  http://mashable.com/2014/06/30/three-missing-i...       191.0   \n",
       "\n",
       "        n_tokens_title   n_tokens_content   n_unique_tokens  \\\n",
       "499                8.0              286.0          0.561404   \n",
       "11036             14.0              333.0          0.648485   \n",
       "16525             10.0              741.0          0.506868   \n",
       "12228             11.0             1175.0          0.397933   \n",
       "28034             12.0             1709.0          0.359172   \n",
       "\n",
       "        n_non_stop_words   n_non_stop_unique_tokens   num_hrefs  \\\n",
       "499                  1.0                   0.602941        18.0   \n",
       "11036                1.0                   0.850746         5.0   \n",
       "16525                1.0                   0.675799        19.0   \n",
       "12228                1.0                   0.614286         5.0   \n",
       "28034                1.0                   0.527862         5.0   \n",
       "\n",
       "        num_self_hrefs   num_imgs  ...   min_positive_polarity  \\\n",
       "499                2.0       15.0  ...                0.250000   \n",
       "11036              3.0        0.0  ...                0.100000   \n",
       "16525              6.0        1.0  ...                0.033333   \n",
       "12228              1.0        1.0  ...                0.050000   \n",
       "28034              1.0        4.0  ...                0.050000   \n",
       "\n",
       "        max_positive_polarity   avg_negative_polarity   min_negative_polarity  \\\n",
       "499                       0.7               -0.342692                    -0.6   \n",
       "11036                     0.9               -0.261699                    -0.5   \n",
       "16525                     1.0               -0.213194                    -0.5   \n",
       "12228                     0.8               -0.223250                    -0.5   \n",
       "28034                     1.0               -0.306468                    -0.4   \n",
       "\n",
       "        max_negative_polarity   title_subjectivity   title_sentiment_polarity  \\\n",
       "499                 -0.076923             0.400000                  -0.300000   \n",
       "11036               -0.076923             0.400000                  -0.400000   \n",
       "16525               -0.100000             0.454545                   0.136364   \n",
       "12228               -0.071429             0.000000                   0.000000   \n",
       "28034               -0.050000             0.560606                   0.234848   \n",
       "\n",
       "        abs_title_subjectivity   abs_title_sentiment_polarity   shares  \n",
       "499                   0.100000                       0.300000      480  \n",
       "11036                 0.100000                       0.400000      783  \n",
       "16525                 0.045455                       0.136364     1800  \n",
       "12228                 0.500000                       0.000000     7600  \n",
       "28034                 0.060606                       0.234848     1200  \n",
       "\n",
       "[5 rows x 61 columns]"
      ]
     },
     "execution_count": 57,
     "metadata": {},
     "output_type": "execute_result"
    }
   ],
   "source": [
    "df.sample(5)"
   ]
  },
  {
   "cell_type": "code",
   "execution_count": 62,
   "metadata": {},
   "outputs": [],
   "source": [
    "# las etiquetas de las columnas presentan un espacio extra, con ésto lo podemos eliminar\n",
    "df.columns = [i.replace(' ', '') for i in df.columns]\n",
    "\n",
    "# eliminamos el string de url que no sirve para el análisis\n",
    "df = df.loc[:, 'n_tokens_title':'shares']\n",
    "\n",
    "# generamos el conjunto de variables\n",
    "qnty = df.filter(regex='^n_', axis=1)\n",
    "\n",
    "channel = df.filter(regex='^data_', axis=1)\n",
    "\n",
    "days = df.filter(regex=re.compile(\"weekday|weekend\"), axis=1)\n",
    "\n",
    "sentiments = df.filter(regex=re.compile(\"negative|positive|subjectivity\"),axis=1)\n",
    "\n",
    "lda = df.filter(regex='^LDA_\\d', axis=1)\n",
    "\n",
    "keywords = df.filter(regex='^kw_', axis=1)"
   ]
  },
  {
   "cell_type": "code",
   "execution_count": 5,
   "metadata": {},
   "outputs": [
    {
     "data": {
      "image/png": "[encoded data removed]",
      "text/plain": [
       "<Figure size 720x504 with 5 Axes>"
      ]
     },
     "metadata": {
      "needs_background": "light"
     },
     "output_type": "display_data"
    }
   ],
   "source": [
    "plt.figure(figsize = (10,7))\n",
    "helpers.grid_plot_batch(qnty, 2, sn.distplot)"
   ]
  },
  {
   "cell_type": "code",
   "execution_count": 102,
   "metadata": {},
   "outputs": [
    {
     "data": {
      "image/png": "[encoded data removed]",
      "text/plain": [
       "<Figure size 720x504 with 6 Axes>"
      ]
     },
     "metadata": {
      "needs_background": "light"
     },
     "output_type": "display_data"
    }
   ],
   "source": [
    "plt.figure(figsize = (10,7))\n",
    "helpers.grid_plot_batch(channel, 2, sn.countplot)"
   ]
  },
  {
   "cell_type": "code",
   "execution_count": 64,
   "metadata": {},
   "outputs": [
    {
     "data": {
      "image/png": "[encoded data removed]",
      "text/plain": [
       "<Figure size 720x504 with 8 Axes>"
      ]
     },
     "metadata": {
      "needs_background": "light"
     },
     "output_type": "display_data"
    }
   ],
   "source": [
    "plt.figure(figsize = (10,7))\n",
    "helpers.grid_plot_batch(days, 2, sn.countplot)"
   ]
  },
  {
   "cell_type": "code",
   "execution_count": 65,
   "metadata": {},
   "outputs": [
    {
     "data": {
      "image/png": "[encoded data removed]",
      "text/plain": [
       "<Figure size 720x504 with 13 Axes>"
      ]
     },
     "metadata": {
      "needs_background": "light"
     },
     "output_type": "display_data"
    }
   ],
   "source": [
    "plt.figure(figsize = (10,7))\n",
    "helpers.grid_plot_batch(sentiments, 2, sn.distplot)"
   ]
  },
  {
   "cell_type": "code",
   "execution_count": 66,
   "metadata": {},
   "outputs": [
    {
     "data": {
      "text/html": [
       "<div>\n",
       "<style scoped>\n",
       "    .dataframe tbody tr th:only-of-type {\n",
       "        vertical-align: middle;\n",
       "    }\n",
       "\n",
       "    .dataframe tbody tr th {\n",
       "        vertical-align: top;\n",
       "    }\n",
       "\n",
       "    .dataframe thead th {\n",
       "        text-align: right;\n",
       "    }\n",
       "</style>\n",
       "<table border=\"1\" class=\"dataframe\">\n",
       "  <thead>\n",
       "    <tr style=\"text-align: right;\">\n",
       "      <th></th>\n",
       "      <th>variable</th>\n",
       "      <th>var2</th>\n",
       "      <th>value</th>\n",
       "    </tr>\n",
       "  </thead>\n",
       "  <tbody>\n",
       "    <tr>\n",
       "      <th>179</th>\n",
       "      <td>n_non_stop_words</td>\n",
       "      <td>n_unique_tokens</td>\n",
       "      <td>0.999572</td>\n",
       "    </tr>\n",
       "    <tr>\n",
       "      <th>238</th>\n",
       "      <td>n_non_stop_unique_tokens</td>\n",
       "      <td>n_unique_tokens</td>\n",
       "      <td>0.999852</td>\n",
       "    </tr>\n",
       "    <tr>\n",
       "      <th>239</th>\n",
       "      <td>n_non_stop_unique_tokens</td>\n",
       "      <td>n_non_stop_words</td>\n",
       "      <td>0.999532</td>\n",
       "    </tr>\n",
       "    <tr>\n",
       "      <th>1139</th>\n",
       "      <td>kw_avg_min</td>\n",
       "      <td>kw_max_min</td>\n",
       "      <td>0.940529</td>\n",
       "    </tr>\n",
       "    <tr>\n",
       "      <th>1256</th>\n",
       "      <td>kw_max_max</td>\n",
       "      <td>kw_min_min</td>\n",
       "      <td>-0.857226</td>\n",
       "    </tr>\n",
       "    <tr>\n",
       "      <th>1499</th>\n",
       "      <td>kw_avg_avg</td>\n",
       "      <td>kw_max_avg</td>\n",
       "      <td>0.811864</td>\n",
       "    </tr>\n",
       "    <tr>\n",
       "      <th>1678</th>\n",
       "      <td>self_reference_avg_sharess</td>\n",
       "      <td>self_reference_min_shares</td>\n",
       "      <td>0.818907</td>\n",
       "    </tr>\n",
       "    <tr>\n",
       "      <th>1679</th>\n",
       "      <td>self_reference_avg_sharess</td>\n",
       "      <td>self_reference_max_shares</td>\n",
       "      <td>0.853480</td>\n",
       "    </tr>\n",
       "    <tr>\n",
       "      <th>2159</th>\n",
       "      <td>is_weekend</td>\n",
       "      <td>weekday_is_sunday</td>\n",
       "      <td>0.701648</td>\n",
       "    </tr>\n",
       "    <tr>\n",
       "      <th>2196</th>\n",
       "      <td>LDA_00</td>\n",
       "      <td>data_channel_is_bus</td>\n",
       "      <td>0.774651</td>\n",
       "    </tr>\n",
       "    <tr>\n",
       "      <th>2317</th>\n",
       "      <td>LDA_02</td>\n",
       "      <td>data_channel_is_world</td>\n",
       "      <td>0.836618</td>\n",
       "    </tr>\n",
       "    <tr>\n",
       "      <th>2434</th>\n",
       "      <td>LDA_04</td>\n",
       "      <td>data_channel_is_tech</td>\n",
       "      <td>0.749737</td>\n",
       "    </tr>\n",
       "    <tr>\n",
       "      <th>2757</th>\n",
       "      <td>rate_positive_words</td>\n",
       "      <td>global_sentiment_polarity</td>\n",
       "      <td>0.727827</td>\n",
       "    </tr>\n",
       "    <tr>\n",
       "      <th>2818</th>\n",
       "      <td>rate_negative_words</td>\n",
       "      <td>global_rate_negative_words</td>\n",
       "      <td>0.779556</td>\n",
       "    </tr>\n",
       "    <tr>\n",
       "      <th>2998</th>\n",
       "      <td>max_positive_polarity</td>\n",
       "      <td>avg_positive_polarity</td>\n",
       "      <td>0.703558</td>\n",
       "    </tr>\n",
       "    <tr>\n",
       "      <th>3119</th>\n",
       "      <td>min_negative_polarity</td>\n",
       "      <td>avg_negative_polarity</td>\n",
       "      <td>0.748896</td>\n",
       "    </tr>\n",
       "    <tr>\n",
       "      <th>3417</th>\n",
       "      <td>abs_title_sentiment_polarity</td>\n",
       "      <td>title_subjectivity</td>\n",
       "      <td>0.714528</td>\n",
       "    </tr>\n",
       "  </tbody>\n",
       "</table>\n",
       "</div>"
      ],
      "text/plain": [
       "                          variable                        var2     value\n",
       "179               n_non_stop_words             n_unique_tokens  0.999572\n",
       "238       n_non_stop_unique_tokens             n_unique_tokens  0.999852\n",
       "239       n_non_stop_unique_tokens            n_non_stop_words  0.999532\n",
       "1139                    kw_avg_min                  kw_max_min  0.940529\n",
       "1256                    kw_max_max                  kw_min_min -0.857226\n",
       "1499                    kw_avg_avg                  kw_max_avg  0.811864\n",
       "1678    self_reference_avg_sharess   self_reference_min_shares  0.818907\n",
       "1679    self_reference_avg_sharess   self_reference_max_shares  0.853480\n",
       "2159                    is_weekend           weekday_is_sunday  0.701648\n",
       "2196                        LDA_00         data_channel_is_bus  0.774651\n",
       "2317                        LDA_02       data_channel_is_world  0.836618\n",
       "2434                        LDA_04        data_channel_is_tech  0.749737\n",
       "2757           rate_positive_words   global_sentiment_polarity  0.727827\n",
       "2818           rate_negative_words  global_rate_negative_words  0.779556\n",
       "2998         max_positive_polarity       avg_positive_polarity  0.703558\n",
       "3119         min_negative_polarity       avg_negative_polarity  0.748896\n",
       "3417  abs_title_sentiment_polarity          title_subjectivity  0.714528"
      ]
     },
     "execution_count": 66,
     "metadata": {},
     "output_type": "execute_result"
    }
   ],
   "source": [
    "correlations = helpers.identify_high_correlations(df, threshold=0.8)\n",
    "correlations"
   ]
  },
  {
   "cell_type": "code",
   "execution_count": 15,
   "metadata": {},
   "outputs": [],
   "source": [
    "df.drop(columns=correlations.variable, axis = 1, inplace = True)"
   ]
  },
  {
   "cell_type": "code",
   "execution_count": 68,
   "metadata": {},
   "outputs": [],
   "source": [
    "x_train, x_test, y_train, y_test = train_test_split(df.drop('shares', axis = 1), df['shares'],\n",
    "                                                   test_size = .30,\n",
    "                                                   random_state = 11235813)"
   ]
  },
  {
   "cell_type": "code",
   "execution_count": 32,
   "metadata": {},
   "outputs": [],
   "source": [
    "categorical_train = x_train.filter(regex = '_is_', axis = 1)\n",
    "numeric_train = x_train.drop(categorical_train.columns, axis = 1)\n",
    "\n",
    "categorical_test = x_test.filter(regex = '_is_', axis = 1)\n",
    "numeric_test = x_test.drop(categorical_test.columns, axis = 1)"
   ]
  },
  {
   "cell_type": "code",
   "execution_count": 71,
   "metadata": {},
   "outputs": [],
   "source": [
    "y_train_bin = np.where(y_train > 1400, 1, 0)\n",
    "y_test_bin = np.where(y_test > 1400, 1, 0)"
   ]
  },
  {
   "cell_type": "code",
   "execution_count": 153,
   "metadata": {},
   "outputs": [],
   "source": [
    "from sklearn.decomposition import PCA\n",
    "pca = PCA(n_components = .99, svd_solver = 'full').fit(numeric_train)"
   ]
  },
  {
   "cell_type": "code",
   "execution_count": 154,
   "metadata": {},
   "outputs": [],
   "source": [
    "numerical_pca_train = pca.transform(numeric_train)\n",
    "numerical_pca_test = pca.transform(numeric_test)\n"
   ]
  },
  {
   "cell_type": "code",
   "execution_count": 155,
   "metadata": {},
   "outputs": [],
   "source": [
    "final_train = pd.concat([\n",
    "    pd.DataFrame(numerical_pca_train),\n",
    "    categorical_train.reset_index(drop = True)],\n",
    "    axis = 1)"
   ]
  },
  {
   "cell_type": "code",
   "execution_count": 156,
   "metadata": {},
   "outputs": [],
   "source": [
    "final_test = pd.concat([\n",
    "    pd.DataFrame(numerical_pca_test),\n",
    "    categorical_test.reset_index(drop = True)],\n",
    "    axis = 1)"
   ]
  },
  {
   "cell_type": "code",
   "execution_count": 157,
   "metadata": {},
   "outputs": [],
   "source": [
    "final_train.drop('shares_bin', axis = 1, inplace = True)\n",
    "final_test.drop('shares_bin', axis = 1, inplace = True)"
   ]
  },
  {
   "cell_type": "markdown",
   "metadata": {},
   "source": [
    "------\n",
    "# Modelamiento\n",
    "\n",
    "## Logistic Regression"
   ]
  },
  {
   "cell_type": "code",
   "execution_count": 158,
   "metadata": {},
   "outputs": [
    {
     "name": "stderr",
     "output_type": "stream",
     "text": [
      "/Users/ignacio/anaconda3/lib/python3.7/site-packages/sklearn/linear_model/logistic.py:432: FutureWarning: Default solver will be changed to 'lbfgs' in 0.22. Specify a solver to silence this warning.\n",
      "  FutureWarning)\n"
     ]
    }
   ],
   "source": [
    "from sklearn.linear_model import LogisticRegression\n",
    "logit = LogisticRegression().fit(final_train, y_train_bin)"
   ]
  },
  {
   "cell_type": "code",
   "execution_count": 159,
   "metadata": {},
   "outputs": [
    {
     "name": "stdout",
     "output_type": "stream",
     "text": [
      "              precision    recall  f1-score   support\n",
      "\n",
      "           0       0.55      0.88      0.68      6005\n",
      "           1       0.69      0.27      0.38      5889\n",
      "\n",
      "    accuracy                           0.58     11894\n",
      "   macro avg       0.62      0.57      0.53     11894\n",
      "weighted avg       0.62      0.58      0.53     11894\n",
      "\n"
     ]
    }
   ],
   "source": [
    "print(classification_report(y_test_bin, logit.predict(final_test)))"
   ]
  },
  {
   "cell_type": "code",
   "execution_count": 160,
   "metadata": {},
   "outputs": [
    {
     "data": {
      "text/plain": [
       "['logit_pauta.joblib']"
      ]
     },
     "execution_count": 160,
     "metadata": {},
     "output_type": "execute_result"
    }
   ],
   "source": [
    "dump(logit, 'logit_pauta.joblib')"
   ]
  },
  {
   "cell_type": "code",
   "execution_count": null,
   "metadata": {},
   "outputs": [],
   "source": []
  },
  {
   "cell_type": "markdown",
   "metadata": {},
   "source": [
    "------\n",
    "## Decision Tree"
   ]
  },
  {
   "cell_type": "code",
   "execution_count": 161,
   "metadata": {},
   "outputs": [
    {
     "name": "stdout",
     "output_type": "stream",
     "text": [
      "              precision    recall  f1-score   support\n",
      "\n",
      "           0       0.57      0.57      0.57      6005\n",
      "           1       0.56      0.56      0.56      5889\n",
      "\n",
      "    accuracy                           0.57     11894\n",
      "   macro avg       0.57      0.57      0.57     11894\n",
      "weighted avg       0.57      0.57      0.57     11894\n",
      "\n"
     ]
    }
   ],
   "source": [
    "tree_test = DecisionTreeClassifier().fit(x_train, y_train_bin)\n",
    "print(classification_report(y_test_bin, tree_test.predict(x_test)))"
   ]
  },
  {
   "cell_type": "code",
   "execution_count": 162,
   "metadata": {
    "collapsed": true,
    "jupyter": {
     "outputs_hidden": true
    }
   },
   "outputs": [
    {
     "data": {
      "text/html": [
       "<div>\n",
       "<style scoped>\n",
       "    .dataframe tbody tr th:only-of-type {\n",
       "        vertical-align: middle;\n",
       "    }\n",
       "\n",
       "    .dataframe tbody tr th {\n",
       "        vertical-align: top;\n",
       "    }\n",
       "\n",
       "    .dataframe thead th {\n",
       "        text-align: right;\n",
       "    }\n",
       "</style>\n",
       "<table border=\"1\" class=\"dataframe\">\n",
       "  <thead>\n",
       "    <tr style=\"text-align: right;\">\n",
       "      <th></th>\n",
       "      <th>Column</th>\n",
       "      <th>Importance</th>\n",
       "    </tr>\n",
       "  </thead>\n",
       "  <tbody>\n",
       "    <tr>\n",
       "      <th>25</th>\n",
       "      <td>kw_avg_avg</td>\n",
       "      <td>0.0743866</td>\n",
       "    </tr>\n",
       "    <tr>\n",
       "      <th>22</th>\n",
       "      <td>kw_avg_max</td>\n",
       "      <td>0.0428244</td>\n",
       "    </tr>\n",
       "    <tr>\n",
       "      <th>24</th>\n",
       "      <td>kw_max_avg</td>\n",
       "      <td>0.0369692</td>\n",
       "    </tr>\n",
       "    <tr>\n",
       "      <th>9</th>\n",
       "      <td>average_token_length</td>\n",
       "      <td>0.0343693</td>\n",
       "    </tr>\n",
       "    <tr>\n",
       "      <th>28</th>\n",
       "      <td>self_reference_avg_sharess</td>\n",
       "      <td>0.0331944</td>\n",
       "    </tr>\n",
       "    <tr>\n",
       "      <th>38</th>\n",
       "      <td>LDA_01</td>\n",
       "      <td>0.0321023</td>\n",
       "    </tr>\n",
       "    <tr>\n",
       "      <th>37</th>\n",
       "      <td>LDA_00</td>\n",
       "      <td>0.0313172</td>\n",
       "    </tr>\n",
       "    <tr>\n",
       "      <th>2</th>\n",
       "      <td>n_unique_tokens</td>\n",
       "      <td>0.0294314</td>\n",
       "    </tr>\n",
       "    <tr>\n",
       "      <th>19</th>\n",
       "      <td>kw_avg_min</td>\n",
       "      <td>0.0291946</td>\n",
       "    </tr>\n",
       "    <tr>\n",
       "      <th>26</th>\n",
       "      <td>self_reference_min_shares</td>\n",
       "      <td>0.0290071</td>\n",
       "    </tr>\n",
       "    <tr>\n",
       "      <th>4</th>\n",
       "      <td>n_non_stop_unique_tokens</td>\n",
       "      <td>0.028897</td>\n",
       "    </tr>\n",
       "    <tr>\n",
       "      <th>39</th>\n",
       "      <td>LDA_02</td>\n",
       "      <td>0.0286995</td>\n",
       "    </tr>\n",
       "    <tr>\n",
       "      <th>41</th>\n",
       "      <td>LDA_04</td>\n",
       "      <td>0.0286666</td>\n",
       "    </tr>\n",
       "    <tr>\n",
       "      <th>45</th>\n",
       "      <td>global_rate_negative_words</td>\n",
       "      <td>0.0278723</td>\n",
       "    </tr>\n",
       "    <tr>\n",
       "      <th>42</th>\n",
       "      <td>global_subjectivity</td>\n",
       "      <td>0.0278121</td>\n",
       "    </tr>\n",
       "    <tr>\n",
       "      <th>18</th>\n",
       "      <td>kw_max_min</td>\n",
       "      <td>0.0277237</td>\n",
       "    </tr>\n",
       "    <tr>\n",
       "      <th>44</th>\n",
       "      <td>global_rate_positive_words</td>\n",
       "      <td>0.027636</td>\n",
       "    </tr>\n",
       "    <tr>\n",
       "      <th>48</th>\n",
       "      <td>avg_positive_polarity</td>\n",
       "      <td>0.0264816</td>\n",
       "    </tr>\n",
       "    <tr>\n",
       "      <th>1</th>\n",
       "      <td>n_tokens_content</td>\n",
       "      <td>0.0258611</td>\n",
       "    </tr>\n",
       "    <tr>\n",
       "      <th>40</th>\n",
       "      <td>LDA_03</td>\n",
       "      <td>0.025245</td>\n",
       "    </tr>\n",
       "    <tr>\n",
       "      <th>51</th>\n",
       "      <td>avg_negative_polarity</td>\n",
       "      <td>0.0241899</td>\n",
       "    </tr>\n",
       "    <tr>\n",
       "      <th>43</th>\n",
       "      <td>global_sentiment_polarity</td>\n",
       "      <td>0.0232344</td>\n",
       "    </tr>\n",
       "    <tr>\n",
       "      <th>23</th>\n",
       "      <td>kw_min_avg</td>\n",
       "      <td>0.0212814</td>\n",
       "    </tr>\n",
       "    <tr>\n",
       "      <th>27</th>\n",
       "      <td>self_reference_max_shares</td>\n",
       "      <td>0.0187252</td>\n",
       "    </tr>\n",
       "    <tr>\n",
       "      <th>5</th>\n",
       "      <td>num_hrefs</td>\n",
       "      <td>0.017937</td>\n",
       "    </tr>\n",
       "    <tr>\n",
       "      <th>0</th>\n",
       "      <td>n_tokens_title</td>\n",
       "      <td>0.0170936</td>\n",
       "    </tr>\n",
       "    <tr>\n",
       "      <th>20</th>\n",
       "      <td>kw_min_max</td>\n",
       "      <td>0.0151465</td>\n",
       "    </tr>\n",
       "    <tr>\n",
       "      <th>55</th>\n",
       "      <td>title_sentiment_polarity</td>\n",
       "      <td>0.0147228</td>\n",
       "    </tr>\n",
       "    <tr>\n",
       "      <th>36</th>\n",
       "      <td>is_weekend</td>\n",
       "      <td>0.0141938</td>\n",
       "    </tr>\n",
       "    <tr>\n",
       "      <th>6</th>\n",
       "      <td>num_self_hrefs</td>\n",
       "      <td>0.0131669</td>\n",
       "    </tr>\n",
       "    <tr>\n",
       "      <th>52</th>\n",
       "      <td>min_negative_polarity</td>\n",
       "      <td>0.0128632</td>\n",
       "    </tr>\n",
       "    <tr>\n",
       "      <th>12</th>\n",
       "      <td>data_channel_is_entertainment</td>\n",
       "      <td>0.0119469</td>\n",
       "    </tr>\n",
       "    <tr>\n",
       "      <th>53</th>\n",
       "      <td>max_negative_polarity</td>\n",
       "      <td>0.0119251</td>\n",
       "    </tr>\n",
       "    <tr>\n",
       "      <th>7</th>\n",
       "      <td>num_imgs</td>\n",
       "      <td>0.0118487</td>\n",
       "    </tr>\n",
       "    <tr>\n",
       "      <th>49</th>\n",
       "      <td>min_positive_polarity</td>\n",
       "      <td>0.0106402</td>\n",
       "    </tr>\n",
       "    <tr>\n",
       "      <th>54</th>\n",
       "      <td>title_subjectivity</td>\n",
       "      <td>0.0104469</td>\n",
       "    </tr>\n",
       "    <tr>\n",
       "      <th>47</th>\n",
       "      <td>rate_negative_words</td>\n",
       "      <td>0.00991158</td>\n",
       "    </tr>\n",
       "    <tr>\n",
       "      <th>46</th>\n",
       "      <td>rate_positive_words</td>\n",
       "      <td>0.00929639</td>\n",
       "    </tr>\n",
       "    <tr>\n",
       "      <th>57</th>\n",
       "      <td>abs_title_sentiment_polarity</td>\n",
       "      <td>0.00911295</td>\n",
       "    </tr>\n",
       "    <tr>\n",
       "      <th>56</th>\n",
       "      <td>abs_title_subjectivity</td>\n",
       "      <td>0.008777</td>\n",
       "    </tr>\n",
       "    <tr>\n",
       "      <th>8</th>\n",
       "      <td>num_videos</td>\n",
       "      <td>0.00868719</td>\n",
       "    </tr>\n",
       "    <tr>\n",
       "      <th>15</th>\n",
       "      <td>data_channel_is_tech</td>\n",
       "      <td>0.00730319</td>\n",
       "    </tr>\n",
       "    <tr>\n",
       "      <th>50</th>\n",
       "      <td>max_positive_polarity</td>\n",
       "      <td>0.00728569</td>\n",
       "    </tr>\n",
       "    <tr>\n",
       "      <th>10</th>\n",
       "      <td>num_keywords</td>\n",
       "      <td>0.00694127</td>\n",
       "    </tr>\n",
       "    <tr>\n",
       "      <th>14</th>\n",
       "      <td>data_channel_is_socmed</td>\n",
       "      <td>0.00560032</td>\n",
       "    </tr>\n",
       "    <tr>\n",
       "      <th>21</th>\n",
       "      <td>kw_max_max</td>\n",
       "      <td>0.0054419</td>\n",
       "    </tr>\n",
       "    <tr>\n",
       "      <th>17</th>\n",
       "      <td>kw_min_min</td>\n",
       "      <td>0.00483121</td>\n",
       "    </tr>\n",
       "    <tr>\n",
       "      <th>32</th>\n",
       "      <td>weekday_is_thursday</td>\n",
       "      <td>0.00343103</td>\n",
       "    </tr>\n",
       "    <tr>\n",
       "      <th>33</th>\n",
       "      <td>weekday_is_friday</td>\n",
       "      <td>0.00303054</td>\n",
       "    </tr>\n",
       "    <tr>\n",
       "      <th>31</th>\n",
       "      <td>weekday_is_wednesday</td>\n",
       "      <td>0.00272203</td>\n",
       "    </tr>\n",
       "    <tr>\n",
       "      <th>29</th>\n",
       "      <td>weekday_is_monday</td>\n",
       "      <td>0.00239648</td>\n",
       "    </tr>\n",
       "    <tr>\n",
       "      <th>30</th>\n",
       "      <td>weekday_is_tuesday</td>\n",
       "      <td>0.00232923</td>\n",
       "    </tr>\n",
       "    <tr>\n",
       "      <th>11</th>\n",
       "      <td>data_channel_is_lifestyle</td>\n",
       "      <td>0.00219974</td>\n",
       "    </tr>\n",
       "    <tr>\n",
       "      <th>16</th>\n",
       "      <td>data_channel_is_world</td>\n",
       "      <td>0.00157808</td>\n",
       "    </tr>\n",
       "    <tr>\n",
       "      <th>13</th>\n",
       "      <td>data_channel_is_bus</td>\n",
       "      <td>0.00121986</td>\n",
       "    </tr>\n",
       "    <tr>\n",
       "      <th>35</th>\n",
       "      <td>weekday_is_sunday</td>\n",
       "      <td>0.000431838</td>\n",
       "    </tr>\n",
       "    <tr>\n",
       "      <th>34</th>\n",
       "      <td>weekday_is_saturday</td>\n",
       "      <td>0.000322545</td>\n",
       "    </tr>\n",
       "    <tr>\n",
       "      <th>3</th>\n",
       "      <td>n_non_stop_words</td>\n",
       "      <td>9.61165e-05</td>\n",
       "    </tr>\n",
       "  </tbody>\n",
       "</table>\n",
       "</div>"
      ],
      "text/plain": [
       "                           Column   Importance\n",
       "25                     kw_avg_avg    0.0743866\n",
       "22                     kw_avg_max    0.0428244\n",
       "24                     kw_max_avg    0.0369692\n",
       "9            average_token_length    0.0343693\n",
       "28     self_reference_avg_sharess    0.0331944\n",
       "38                         LDA_01    0.0321023\n",
       "37                         LDA_00    0.0313172\n",
       "2                 n_unique_tokens    0.0294314\n",
       "19                     kw_avg_min    0.0291946\n",
       "26      self_reference_min_shares    0.0290071\n",
       "4        n_non_stop_unique_tokens     0.028897\n",
       "39                         LDA_02    0.0286995\n",
       "41                         LDA_04    0.0286666\n",
       "45     global_rate_negative_words    0.0278723\n",
       "42            global_subjectivity    0.0278121\n",
       "18                     kw_max_min    0.0277237\n",
       "44     global_rate_positive_words     0.027636\n",
       "48          avg_positive_polarity    0.0264816\n",
       "1                n_tokens_content    0.0258611\n",
       "40                         LDA_03     0.025245\n",
       "51          avg_negative_polarity    0.0241899\n",
       "43      global_sentiment_polarity    0.0232344\n",
       "23                     kw_min_avg    0.0212814\n",
       "27      self_reference_max_shares    0.0187252\n",
       "5                       num_hrefs     0.017937\n",
       "0                  n_tokens_title    0.0170936\n",
       "20                     kw_min_max    0.0151465\n",
       "55       title_sentiment_polarity    0.0147228\n",
       "36                     is_weekend    0.0141938\n",
       "6                  num_self_hrefs    0.0131669\n",
       "52          min_negative_polarity    0.0128632\n",
       "12  data_channel_is_entertainment    0.0119469\n",
       "53          max_negative_polarity    0.0119251\n",
       "7                        num_imgs    0.0118487\n",
       "49          min_positive_polarity    0.0106402\n",
       "54             title_subjectivity    0.0104469\n",
       "47            rate_negative_words   0.00991158\n",
       "46            rate_positive_words   0.00929639\n",
       "57   abs_title_sentiment_polarity   0.00911295\n",
       "56         abs_title_subjectivity     0.008777\n",
       "8                      num_videos   0.00868719\n",
       "15           data_channel_is_tech   0.00730319\n",
       "50          max_positive_polarity   0.00728569\n",
       "10                   num_keywords   0.00694127\n",
       "14         data_channel_is_socmed   0.00560032\n",
       "21                     kw_max_max    0.0054419\n",
       "17                     kw_min_min   0.00483121\n",
       "32            weekday_is_thursday   0.00343103\n",
       "33              weekday_is_friday   0.00303054\n",
       "31           weekday_is_wednesday   0.00272203\n",
       "29              weekday_is_monday   0.00239648\n",
       "30             weekday_is_tuesday   0.00232923\n",
       "11      data_channel_is_lifestyle   0.00219974\n",
       "16          data_channel_is_world   0.00157808\n",
       "13            data_channel_is_bus   0.00121986\n",
       "35              weekday_is_sunday  0.000431838\n",
       "34            weekday_is_saturday  0.000322545\n",
       "3                n_non_stop_words  9.61165e-05"
      ]
     },
     "execution_count": 162,
     "metadata": {},
     "output_type": "execute_result"
    }
   ],
   "source": [
    "df_importances = pd.DataFrame([x_test.columns, tree_test.feature_importances_]).T\n",
    "df_importances.columns = ['Column', 'Importance']\n",
    "df_importances.sort_values(by = 'Importance', ascending = False)"
   ]
  },
  {
   "cell_type": "code",
   "execution_count": 163,
   "metadata": {},
   "outputs": [],
   "source": [
    "from sklearn.tree import DecisionTreeClassifier\n",
    "\n",
    "tree_1 = DecisionTreeClassifier(max_depth=1).fit(final_train, y_train_bin)\n",
    "tree_10 = DecisionTreeClassifier(max_depth=10).fit(final_train, y_train_bin)"
   ]
  },
  {
   "cell_type": "code",
   "execution_count": 164,
   "metadata": {},
   "outputs": [
    {
     "name": "stdout",
     "output_type": "stream",
     "text": [
      "##################### Max Depth = 1 #####################\n",
      "              precision    recall  f1-score   support\n",
      "\n",
      "           0       0.64      0.27      0.38      6005\n",
      "           1       0.53      0.85      0.65      5889\n",
      "\n",
      "    accuracy                           0.56     11894\n",
      "   macro avg       0.59      0.56      0.52     11894\n",
      "weighted avg       0.59      0.56      0.52     11894\n",
      "\n",
      "\n",
      "##################### Max Depth = 4 #####################\n",
      "              precision    recall  f1-score   support\n",
      "\n",
      "           0       0.63      0.60      0.61      6005\n",
      "           1       0.61      0.65      0.63      5889\n",
      "\n",
      "    accuracy                           0.62     11894\n",
      "   macro avg       0.62      0.62      0.62     11894\n",
      "weighted avg       0.62      0.62      0.62     11894\n",
      "\n"
     ]
    }
   ],
   "source": [
    "print('##################### Max Depth = 1 #####################')\n",
    "print(classification_report(y_test_bin, tree_1.predict(final_test)))\n",
    "print('\\n##################### Max Depth = 4 #####################')\n",
    "print(classification_report(y_test_bin, tree_10.predict(final_test)))"
   ]
  },
  {
   "cell_type": "code",
   "execution_count": 165,
   "metadata": {},
   "outputs": [
    {
     "data": {
      "text/plain": [
       "['tree_10_pauta.joblib']"
      ]
     },
     "execution_count": 165,
     "metadata": {},
     "output_type": "execute_result"
    }
   ],
   "source": [
    "dump(tree_1, 'tree_1_pauta.joblib')\n",
    "dump(tree_10, 'tree_10_pauta.joblib')"
   ]
  },
  {
   "cell_type": "markdown",
   "metadata": {},
   "source": [
    "----\n",
    "\n",
    "## SVM"
   ]
  },
  {
   "cell_type": "code",
   "execution_count": 166,
   "metadata": {},
   "outputs": [],
   "source": [
    "from sklearn.svm import SVC\n",
    "\n",
    "svm = SVC(gamma = 'auto').fit(final_train, y_train_bin)"
   ]
  },
  {
   "cell_type": "code",
   "execution_count": 167,
   "metadata": {},
   "outputs": [
    {
     "name": "stdout",
     "output_type": "stream",
     "text": [
      "              precision    recall  f1-score   support\n",
      "\n",
      "           0       0.50      1.00      0.67      6005\n",
      "           1       0.50      0.00      0.01      5889\n",
      "\n",
      "    accuracy                           0.50     11894\n",
      "   macro avg       0.50      0.50      0.34     11894\n",
      "weighted avg       0.50      0.50      0.34     11894\n",
      "\n"
     ]
    }
   ],
   "source": [
    "print(classification_report(y_test_bin, svm.predict(final_test)))\n"
   ]
  },
  {
   "cell_type": "code",
   "execution_count": 168,
   "metadata": {},
   "outputs": [
    {
     "data": {
      "text/plain": [
       "['svm_pauta.joblib']"
      ]
     },
     "execution_count": 168,
     "metadata": {},
     "output_type": "execute_result"
    }
   ],
   "source": [
    "dump(svm, 'svm_pauta.joblib')"
   ]
  },
  {
   "cell_type": "markdown",
   "metadata": {},
   "source": [
    "-----\n",
    "## GradientBoost"
   ]
  },
  {
   "cell_type": "code",
   "execution_count": 169,
   "metadata": {},
   "outputs": [],
   "source": [
    "from sklearn.ensemble import GradientBoostingClassifier\n",
    "\n",
    "gboost = GradientBoostingClassifier().fit(final_train, y_train_bin)"
   ]
  },
  {
   "cell_type": "code",
   "execution_count": 170,
   "metadata": {},
   "outputs": [
    {
     "name": "stdout",
     "output_type": "stream",
     "text": [
      "              precision    recall  f1-score   support\n",
      "\n",
      "           0       0.64      0.65      0.64      6005\n",
      "           1       0.64      0.63      0.63      5889\n",
      "\n",
      "    accuracy                           0.64     11894\n",
      "   macro avg       0.64      0.64      0.64     11894\n",
      "weighted avg       0.64      0.64      0.64     11894\n",
      "\n"
     ]
    }
   ],
   "source": [
    "print(classification_report(y_test_bin, gboost.predict(final_test)))\n"
   ]
  },
  {
   "cell_type": "code",
   "execution_count": 171,
   "metadata": {},
   "outputs": [
    {
     "data": {
      "text/plain": [
       "['gboost_pauta.joblib']"
      ]
     },
     "execution_count": 171,
     "metadata": {},
     "output_type": "execute_result"
    }
   ],
   "source": [
    "dump(gboost, 'gboost_pauta.joblib')"
   ]
  },
  {
   "cell_type": "markdown",
   "metadata": {},
   "source": [
    "-----\n",
    "## RandonForest"
   ]
  },
  {
   "cell_type": "code",
   "execution_count": 172,
   "metadata": {},
   "outputs": [],
   "source": [
    "from sklearn.ensemble import RandomForestClassifier\n",
    "\n",
    "rf = RandomForestClassifier(n_estimators = 60, n_jobs = -1).fit(final_train, y_train_bin)"
   ]
  },
  {
   "cell_type": "code",
   "execution_count": 173,
   "metadata": {},
   "outputs": [
    {
     "name": "stdout",
     "output_type": "stream",
     "text": [
      "              precision    recall  f1-score   support\n",
      "\n",
      "           0       0.60      0.62      0.61      6005\n",
      "           1       0.60      0.58      0.59      5889\n",
      "\n",
      "    accuracy                           0.60     11894\n",
      "   macro avg       0.60      0.60      0.60     11894\n",
      "weighted avg       0.60      0.60      0.60     11894\n",
      "\n"
     ]
    }
   ],
   "source": [
    "print(classification_report(y_test_bin, rf.predict(final_test)))"
   ]
  },
  {
   "cell_type": "code",
   "execution_count": 174,
   "metadata": {},
   "outputs": [
    {
     "data": {
      "text/plain": [
       "['rf_pauta.joblib']"
      ]
     },
     "execution_count": 174,
     "metadata": {},
     "output_type": "execute_result"
    }
   ],
   "source": [
    "dump(rf, 'rf_pauta.joblib')"
   ]
  },
  {
   "cell_type": "markdown",
   "metadata": {},
   "source": [
    "------\n",
    "## VotingClassifier (sklearn)"
   ]
  },
  {
   "cell_type": "code",
   "execution_count": 175,
   "metadata": {},
   "outputs": [],
   "source": [
    "from sklearn.ensemble import VotingClassifier\n",
    "\n",
    "models = [('RandomForest',rf), ('GradientBoost',gboost),('Logit',logit), ('DecisionTree_1',tree_1),\n",
    "          ('DecisionTree_10', tree_10), ('SVM', svm)]\n",
    "comite = VotingClassifier(models, n_jobs = -1).fit(final_train, y_train_bin)"
   ]
  },
  {
   "cell_type": "code",
   "execution_count": 176,
   "metadata": {},
   "outputs": [
    {
     "name": "stdout",
     "output_type": "stream",
     "text": [
      "              precision    recall  f1-score   support\n",
      "\n",
      "           0       0.60      0.77      0.67      6005\n",
      "           1       0.67      0.47      0.55      5889\n",
      "\n",
      "    accuracy                           0.62     11894\n",
      "   macro avg       0.63      0.62      0.61     11894\n",
      "weighted avg       0.63      0.62      0.61     11894\n",
      "\n"
     ]
    }
   ],
   "source": [
    "print(classification_report(y_test_bin, comite.predict(final_test)))"
   ]
  },
  {
   "cell_type": "markdown",
   "metadata": {},
   "source": [
    "-----\n",
    "## VotingClassifier (mlxtend)"
   ]
  },
  {
   "cell_type": "code",
   "execution_count": 177,
   "metadata": {},
   "outputs": [],
   "source": [
    "from mlxtend.classifier import EnsembleVoteClassifier\n",
    "\n",
    "rf_loaded = load('rf_pauta.joblib')\n",
    "logit_loaded = load('logit_pauta.joblib')\n",
    "gboost_loaded = load('gboost_pauta.joblib')\n",
    "tree_1_loaded = load('tree_1_pauta.joblib')\n",
    "tree_10_loaded = load('tree_10_pauta.joblib')\n",
    "svm_loaded = load('svm_pauta.joblib')"
   ]
  },
  {
   "cell_type": "code",
   "execution_count": 178,
   "metadata": {},
   "outputs": [],
   "source": [
    "models_2 = [rf_loaded, logit_loaded, gboost_loaded, tree_1_loaded, tree_10_loaded, svm_loaded]\n",
    "\n",
    "comite_mlxtend = EnsembleVoteClassifier(models_2, refit = False).fit(final_train, y_train_bin)"
   ]
  },
  {
   "cell_type": "code",
   "execution_count": 179,
   "metadata": {},
   "outputs": [
    {
     "name": "stdout",
     "output_type": "stream",
     "text": [
      "              precision    recall  f1-score   support\n",
      "\n",
      "           0       0.60      0.77      0.67      6005\n",
      "           1       0.67      0.47      0.55      5889\n",
      "\n",
      "    accuracy                           0.62     11894\n",
      "   macro avg       0.63      0.62      0.61     11894\n",
      "weighted avg       0.63      0.62      0.61     11894\n",
      "\n"
     ]
    }
   ],
   "source": [
    "print(classification_report(y_test_bin, comite_mlxtend.predict(final_test)))"
   ]
  },
  {
   "cell_type": "code",
   "execution_count": null,
   "metadata": {},
   "outputs": [],
   "source": []
  },
  {
   "cell_type": "code",
   "execution_count": null,
   "metadata": {},
   "outputs": [],
   "source": []
  },
  {
   "cell_type": "code",
   "execution_count": null,
   "metadata": {},
   "outputs": [],
   "source": []
  },
  {
   "cell_type": "code",
   "execution_count": null,
   "metadata": {},
   "outputs": [],
   "source": []
  }
 ],
 "metadata": {
  "kernelspec": {
   "display_name": "Python 3",
   "language": "python",
   "name": "python3"
  },
  "language_info": {
   "codemirror_mode": {
    "name": "ipython",
    "version": 3
   },
   "file_extension": ".py",
   "mimetype": "text/x-python",
   "name": "python",
   "nbconvert_exporter": "python",
   "pygments_lexer": "ipython3",
   "version": "3.7.3"
  }
 },
 "nbformat": 4,
 "nbformat_minor": 4
}
